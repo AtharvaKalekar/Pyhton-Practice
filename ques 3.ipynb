{
 "cells": [
  {
   "cell_type": "code",
   "execution_count": null,
   "metadata": {},
   "outputs": [
    {
     "name": "stdout",
     "output_type": "stream",
     "text": [
      "(1, 2, 3, 4, 3, 5, 2, 1, 2, 2, 3, 1)\n",
      "The sum of the elements  29\n",
      "The required output is  (6, 9, 8, 9)\n"
     ]
    }
   ],
   "source": [
    "#Question 3\n",
    "t1= (1,2,3,4)\n",
    "t2= (3,5,2,1)\n",
    "t3= (2,2,3,1)\n",
    "t4 = (t1+t2+t3)\n",
    "print(t4)\n",
    "t5= t1[0]+t2[0]+t3[0]\n",
    "t6= t1[1]+t2[1]+t3[1]\n",
    "t7= t1[2]+t2[2]+t3[2]\n",
    "t8= t1[3]+t2[3]+t4[3]\n",
    "print(\"The sum of the elements \", sum(t4))\n",
    "t9= (t5,t6,t7,t8)\n",
    "print(\"The required output is \",(t9))"
   ]
  }
 ],
 "metadata": {
  "kernelspec": {
   "display_name": "Python 3",
   "language": "python",
   "name": "python3"
  },
  "language_info": {
   "name": "python",
   "version": "3.12.6"
  }
 },
 "nbformat": 4,
 "nbformat_minor": 2
}
