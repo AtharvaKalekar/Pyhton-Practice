{
 "cells": [
  {
   "cell_type": "code",
   "execution_count": 1,
   "metadata": {},
   "outputs": [
    {
     "name": "stdout",
     "output_type": "stream",
     "text": [
      "Ascending Order: {'banana': 5, 'orange': 8, 'apple': 10, 'grape': 15}\n",
      "Descending Order: {'grape': 15, 'apple': 10, 'orange': 8, 'banana': 5}\n"
     ]
    }
   ],
   "source": [
    "# 1. Write a Python script to sort (ascending and descending) a dictionary by value.\n",
    "# Sample dictionary\n",
    "data = {'apple': 10, 'banana': 5, 'orange': 8, 'grape': 15}\n",
    "\n",
    "# Sort dictionary by value in ascending order\n",
    "sorted_asc = dict(sorted(data.items(), key=lambda item: item[1]))\n",
    "\n",
    "# Sort dictionary by value in descending order\n",
    "sorted_desc = dict(sorted(data.items(), key=lambda item: item[1], reverse=True))\n",
    "\n",
    "# Display results\n",
    "print(\"Ascending Order:\", sorted_asc)\n",
    "print(\"Descending Order:\", sorted_desc)\n"
   ]
  },
  {
   "cell_type": "code",
   "execution_count": 2,
   "metadata": {},
   "outputs": [
    {
     "name": "stdout",
     "output_type": "stream",
     "text": [
      "Dictionary after removing duplicates: {'apple': 10, 'banana': 5, 'orange': 8}\n"
     ]
    }
   ],
   "source": [
    "# 2. Write a Python program to remove duplicates from the dictionary.\n",
    "# Sample dictionary with duplicate values\n",
    "data = {'apple': 10, 'banana': 5, 'orange': 8, 'grape': 10, 'melon': 5}\n",
    "\n",
    "# Remove duplicates\n",
    "unique_data = {}\n",
    "for key, value in data.items():\n",
    "    if value not in unique_data.values():\n",
    "        unique_data[key] = value\n",
    "\n",
    "# Display result\n",
    "print(\"Dictionary after removing duplicates:\", unique_data)\n"
   ]
  },
  {
   "cell_type": "code",
   "execution_count": 3,
   "metadata": {},
   "outputs": [
    {
     "name": "stdout",
     "output_type": "stream",
     "text": [
      "Combined Dictionary: {'apple': 10, 'banana': 8, 'orange': 15, 'grape': 15}\n"
     ]
    }
   ],
   "source": [
    "# 3. Write a Python program to combine two dictionary by adding values for common keys.\n",
    "# Sample dictionaries\n",
    "dict1 = {'apple': 10, 'banana': 5, 'orange': 8}\n",
    "dict2 = {'banana': 3, 'orange': 7, 'grape': 15}\n",
    "\n",
    "# Combine dictionaries\n",
    "combined_dict = dict1.copy()  # Start with a copy of the first dictionary\n",
    "for key, value in dict2.items():\n",
    "    # Add value if key is common, otherwise just set the value\n",
    "    combined_dict[key] = combined_dict.get(key, 0) + value\n",
    "\n",
    "# Display result\n",
    "print(\"Combined Dictionary:\", combined_dict)\n"
   ]
  },
  {
   "cell_type": "code",
   "execution_count": 4,
   "metadata": {},
   "outputs": [
    {
     "name": "stdout",
     "output_type": "stream",
     "text": [
      "Letter Count Dictionary: {'h': 1, 'e': 1, 'l': 3, 'o': 2, 'w': 1, 'r': 1, 'd': 1}\n"
     ]
    }
   ],
   "source": [
    "# 4. Write a Python program to create a dictionary from a string. ( Track the count of the letters from the string.)\n",
    "# Sample string\n",
    "text = \"hello world\"\n",
    "\n",
    "# Create dictionary to track letter counts\n",
    "letter_count = {}\n",
    "for letter in text:\n",
    "    if letter.isalpha():  # Ignore non-alphabet characters\n",
    "        letter_count[letter] = letter_count.get(letter, 0) + 1\n",
    "\n",
    "# Display result\n",
    "print(\"Letter Count Dictionary:\", letter_count)\n"
   ]
  },
  {
   "cell_type": "code",
   "execution_count": 5,
   "metadata": {},
   "outputs": [
    {
     "name": "stdout",
     "output_type": "stream",
     "text": [
      "Matching Key-Value Pairs: {'apple': 10, 'banana': 5}\n"
     ]
    }
   ],
   "source": [
    "# 5. Write a Python program to match key and values both, in two dictionaries.\n",
    "# Sample dictionaries\n",
    "dict1 = {'apple': 10, 'banana': 5, 'orange': 8}\n",
    "dict2 = {'banana': 5, 'orange': 7, 'grape': 10, 'apple': 10}\n",
    "\n",
    "# Find matching keys and values\n",
    "matching_items = {key: value for key, value in dict1.items() if key in dict2 and dict2[key] == value}\n",
    "\n",
    "# Display result\n",
    "print(\"Matching Key-Value Pairs:\", matching_items)\n"
   ]
  },
  {
   "cell_type": "code",
   "execution_count": 6,
   "metadata": {},
   "outputs": [
    {
     "name": "stdout",
     "output_type": "stream",
     "text": [
      "New Prices: {'milk': 1.12, 'coffee': 2.75, 'bread': 2.75}\n"
     ]
    }
   ],
   "source": [
    "# 6. Use dictionary comprehension to convert the price of following dictionary from\n",
    "# old_price = {'milk': 1.02, 'coffee': 2.5, 'bread': 2.5}\n",
    "# Original prices\n",
    "old_price = {'milk': 1.02, 'coffee': 2.5, 'bread': 2.5}\n",
    "\n",
    "# Convert prices by applying a 10% increase\n",
    "new_price = {item: round(price * 1.10, 2) for item, price in old_price.items()}\n",
    "\n",
    "# Display result\n",
    "print(\"New Prices:\", new_price)\n"
   ]
  },
  {
   "cell_type": "code",
   "execution_count": 7,
   "metadata": {},
   "outputs": [
    {
     "name": "stdout",
     "output_type": "stream",
     "text": [
      "Dictionary with Even Ages: {'jack': 38, 'Michael': 48}\n"
     ]
    }
   ],
   "source": [
    "# 7. Use dictionary comprehension to create a dictionary to store only key value pairs having even age.\n",
    "# original_dict = {'jack': 38, 'michael': 48, 'guido': 57, 'john': 33}\n",
    "# Original dictionary\n",
    "original_dict = {'jack': 38, 'Michael': 48, 'guido': 57, 'john': 33}\n",
    "\n",
    "# Create a new dictionary with only even ages\n",
    "even_age_dict = {name: age for name, age in original_dict.items() if age % 2 == 0}\n",
    "\n",
    "# Display result\n",
    "print(\"Dictionary with Even Ages:\", even_age_dict)\n"
   ]
  }
 ],
 "metadata": {
  "kernelspec": {
   "display_name": "Python 3",
   "language": "python",
   "name": "python3"
  },
  "language_info": {
   "codemirror_mode": {
    "name": "ipython",
    "version": 3
   },
   "file_extension": ".py",
   "mimetype": "text/x-python",
   "name": "python",
   "nbconvert_exporter": "python",
   "pygments_lexer": "ipython3",
   "version": "3.12.6"
  }
 },
 "nbformat": 4,
 "nbformat_minor": 2
}
