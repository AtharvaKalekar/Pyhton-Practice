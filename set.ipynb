{
 "cells": [
  {
   "cell_type": "code",
   "execution_count": 1,
   "metadata": {},
   "outputs": [
    {
     "name": "stdout",
     "output_type": "stream",
     "text": [
      "Updated set: {1, 2, 4, 5}\n"
     ]
    }
   ],
   "source": [
    "# 1. Write a Python program to remove an item from a set if it is present in the set.\n",
    "def remove_item_from_set(my_set, item):\n",
    "    my_set.discard(item)  # discard() removes item if present; does nothing if absent\n",
    "    return my_set\n",
    "\n",
    "# Example usage\n",
    "my_set = {1, 2, 3, 4, 5}\n",
    "item_to_remove = 3\n",
    "\n",
    "updated_set = remove_item_from_set(my_set, item_to_remove)\n",
    "print(\"Updated set:\", updated_set)\n"
   ]
  },
  {
   "cell_type": "code",
   "execution_count": 2,
   "metadata": {},
   "outputs": [
    {
     "name": "stdout",
     "output_type": "stream",
     "text": [
      "set1 and set2 have no elements in common: True\n",
      "set1 and set3 have no elements in common: False\n"
     ]
    }
   ],
   "source": [
    "# 2. Write a Python program to check if two given sets have no elements in common.\n",
    "def have_no_common_elements(set1, set2):\n",
    "    return set1.isdisjoint(set2)  # isdisjoint() returns True if no common elements, else False\n",
    "\n",
    "# Example usage\n",
    "set1 = {1, 2, 3}\n",
    "set2 = {4, 5, 6}\n",
    "set3 = {3, 4, 5}\n",
    "\n",
    "print(\"set1 and set2 have no elements in common:\", have_no_common_elements(set1, set2))  # Expected: True\n",
    "print(\"set1 and set3 have no elements in common:\", have_no_common_elements(set1, set3))  # Expected: False\n"
   ]
  },
  {
   "cell_type": "code",
   "execution_count": 3,
   "metadata": {},
   "outputs": [
    {
     "name": "stdout",
     "output_type": "stream",
     "text": [
      "Unique items from both sets: {1, 2, 5, 6}\n"
     ]
    }
   ],
   "source": [
    "# 3. Get Only unique items from two sets\n",
    "def get_unique_items(set1, set2):\n",
    "    return set1.symmetric_difference(set2)  # Returns elements in either set1 or set2 but not both\n",
    "\n",
    "# Example usage\n",
    "set1 = {1, 2, 3, 4}\n",
    "set2 = {3, 4, 5, 6}\n",
    "\n",
    "unique_items = get_unique_items(set1, set2)\n",
    "print(\"Unique items from both sets:\", unique_items)\n"
   ]
  },
  {
   "cell_type": "code",
   "execution_count": 4,
   "metadata": {},
   "outputs": [
    {
     "name": "stdout",
     "output_type": "stream",
     "text": [
      "Set converted to string: 1234\n"
     ]
    }
   ],
   "source": [
    "# 4. Write a Python program to Convert Set to one String\n",
    "def convert_set_to_string(my_set):\n",
    "    return ''.join(str(item) for item in my_set)\n",
    "\n",
    "# Example usage\n",
    "my_set = {1, 2, 3, 4}\n",
    "result_string = convert_set_to_string(my_set)\n",
    "print(\"Set converted to string:\", result_string)\n"
   ]
  },
  {
   "cell_type": "code",
   "execution_count": 5,
   "metadata": {},
   "outputs": [
    {
     "name": "stdout",
     "output_type": "stream",
     "text": [
      "Number of vowels: 3\n"
     ]
    }
   ],
   "source": [
    "# 5. WAP to count number of vowels using sets in given string\n",
    "def count_vowels(input_string):\n",
    "    vowels = {'a', 'e', 'i', 'o', 'u'}\n",
    "    count = sum(1 for char in input_string.lower() if char in vowels)\n",
    "    return count\n",
    "\n",
    "# Example usage\n",
    "input_string = \"Hello World\"\n",
    "vowel_count = count_vowels(input_string)\n",
    "print(\"Number of vowels:\", vowel_count)\n"
   ]
  },
  {
   "cell_type": "code",
   "execution_count": 6,
   "metadata": {},
   "outputs": [
    {
     "name": "stdout",
     "output_type": "stream",
     "text": [
      "Cubes of even numbers from 2 to 12: {512, 64, 1728, 8, 1000, 216}\n"
     ]
    }
   ],
   "source": [
    "# 6. WAP to create a set of cubes of even numbers from 2 to 12 using set comprehension.\n",
    "cubes_of_even_numbers = {x**3 for x in range(2, 13) if x % 2 == 0}\n",
    "print(\"Cubes of even numbers from 2 to 12:\", cubes_of_even_numbers)\n"
   ]
  }
 ],
 "metadata": {
  "kernelspec": {
   "display_name": "Python 3",
   "language": "python",
   "name": "python3"
  },
  "language_info": {
   "codemirror_mode": {
    "name": "ipython",
    "version": 3
   },
   "file_extension": ".py",
   "mimetype": "text/x-python",
   "name": "python",
   "nbconvert_exporter": "python",
   "pygments_lexer": "ipython3",
   "version": "3.12.6"
  }
 },
 "nbformat": 4,
 "nbformat_minor": 2
}
