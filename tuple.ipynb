{
 "cells": [
  {
   "cell_type": "code",
   "execution_count": 1,
   "metadata": {},
   "outputs": [
    {
     "name": "stdout",
     "output_type": "stream",
     "text": [
      "Element-wise sum of the said tuples: (6, 9, 8, 6)\n"
     ]
    }
   ],
   "source": [
    "# 1. Write a Python program to compute the element-wise sum of given tuples.\n",
    "#Original : (1, 2, 3, 4) (3, 5, 2, 1) (2, 2, 3, 1)\n",
    "#Element-wise sum of the said tuples: (6, 9, 8, 6)\n",
    "# Define the tuples\n",
    "tuple1 = (1, 2, 3, 4)\n",
    "tuple2 = (3, 5, 2, 1)\n",
    "tuple3 = (2, 2, 3, 1)\n",
    "\n",
    "# Compute the element-wise sum\n",
    "elementwise_sum = tuple(sum(values) for values in zip(tuple1, tuple2, tuple3))\n",
    "\n",
    "# Print the result\n",
    "print(\"Element-wise sum of the said tuples:\", elementwise_sum)\n"
   ]
  },
  {
   "cell_type": "code",
   "execution_count": 2,
   "metadata": {},
   "outputs": [
    {
     "name": "stdout",
     "output_type": "stream",
     "text": [
      "Convert the said list of tuples to a list of lists: [[1, 2], [2, 3], [3, 4]]\n"
     ]
    }
   ],
   "source": [
    "# 2. Write a Python program to convert a given list of tuples to a list of lists.\n",
    "#Original list of tuples: [(1, 2), (2, 3), (3, 4)]\n",
    "#Convert the said list of tuples to a list of lists: [[1, 2], [2, 3], [3, 4]]\n",
    "# Original list of tuples\n",
    "list_of_tuples = [(1, 2), (2, 3), (3, 4)]\n",
    "\n",
    "# Convert the list of tuples to a list of lists\n",
    "list_of_lists = [list(tup) for tup in list_of_tuples]\n",
    "\n",
    "# Print the result\n",
    "print(\"Convert the said list of tuples to a list of lists:\", list_of_lists)\n"
   ]
  },
  {
   "cell_type": "code",
   "execution_count": 3,
   "metadata": {},
   "outputs": [
    {
     "name": "stdout",
     "output_type": "stream",
     "text": [
      "List of tuples after removing empty tuples: [(1, 2), (3, 4), (5,)]\n"
     ]
    }
   ],
   "source": [
    "# 3. Write a Python program to remove an empty tuple(s) from a list of tuples.\n",
    "# Original list of tuples\n",
    "list_of_tuples = [(1, 2), (), (3, 4), (), (5,)]\n",
    "\n",
    "# Remove empty tuples\n",
    "filtered_list = [tup for tup in list_of_tuples if tup]\n",
    "\n",
    "# Print the result\n",
    "print(\"List of tuples after removing empty tuples:\", filtered_list)\n"
   ]
  },
  {
   "cell_type": "code",
   "execution_count": 4,
   "metadata": {},
   "outputs": [
    {
     "name": "stdout",
     "output_type": "stream",
     "text": [
      "Converted tuple: ('apple', 'banana', 'cherry')\n"
     ]
    }
   ],
   "source": [
    "# 4. Write a Python program to convert a given string to a tuple\n",
    "# Given string\n",
    "input_string = \"apple,banana,cherry\"\n",
    "\n",
    "# Convert the string to a tuple\n",
    "tuple_from_string = tuple(input_string.split(\",\"))\n",
    "\n",
    "# Print the result\n",
    "print(\"Converted tuple:\", tuple_from_string)\n"
   ]
  },
  {
   "cell_type": "code",
   "execution_count": 5,
   "metadata": {},
   "outputs": [
    {
     "name": "stdout",
     "output_type": "stream",
     "text": [
      "Product of all numbers in the tuple: 24\n"
     ]
    }
   ],
   "source": [
    "# 5. Write a Python program to calculate the product, multiplying all the numbers in a given tuple.\n",
    "import math\n",
    "\n",
    "# Given tuple\n",
    "numbers_tuple = (1, 2, 3, 4)\n",
    "\n",
    "# Calculate the product of all numbers\n",
    "product = math.prod(numbers_tuple)\n",
    "\n",
    "# Print the result\n",
    "print(\"Product of all numbers in the tuple:\", product)\n"
   ]
  },
  {
   "cell_type": "code",
   "execution_count": 6,
   "metadata": {},
   "outputs": [
    {
     "name": "stdout",
     "output_type": "stream",
     "text": [
      "List of squares from 1 to 20: [1, 4, 9, 16, 25, 36, 49, 64, 81, 100, 121, 144, 169, 196, 225, 256, 289, 324, 361, 400]\n"
     ]
    }
   ],
   "source": [
    "# 6. WAP to create a list of square of numbers from 1 to 20 using List comprehension.\n",
    "# Create a list of squares of numbers from 1 to 20\n",
    "squares = [x**2 for x in range(1, 21)]\n",
    "\n",
    "# Print the result\n",
    "print(\"List of squares from 1 to 20:\", squares)\n"
   ]
  }
 ],
 "metadata": {
  "kernelspec": {
   "display_name": "Python 3",
   "language": "python",
   "name": "python3"
  },
  "language_info": {
   "codemirror_mode": {
    "name": "ipython",
    "version": 3
   },
   "file_extension": ".py",
   "mimetype": "text/x-python",
   "name": "python",
   "nbconvert_exporter": "python",
   "pygments_lexer": "ipython3",
   "version": "3.12.6"
  }
 },
 "nbformat": 4,
 "nbformat_minor": 2
}
