{
 "cells": [
  {
   "cell_type": "code",
   "execution_count": 3,
   "metadata": {},
   "outputs": [
    {
     "name": "stdout",
     "output_type": "stream",
     "text": [
      "No. of Upper case characters: 3\n",
      "No. of Lower case Characters: 12\n"
     ]
    }
   ],
   "source": [
    "# 1. Write a Python function that accepts a string and counts the number of upper and lower case letters.\n",
    "#Sample String : 'The quick Brow Fox'\n",
    "#Expected Output :\n",
    "#No. of Upper case characters : 3\n",
    "#No. of Lower case Characters : 12\n",
    "def count_case_letters(s):\n",
    "    upper_count = sum(1 for char in s if char.isupper())\n",
    "    lower_count = sum(1 for char in s if char.islower())\n",
    "    print(\"No. of Upper case characters:\", upper_count)\n",
    "    print(\"No. of Lower case Characters:\", lower_count)\n",
    "\n",
    "# Sample usage\n",
    "count_case_letters('The quick Brow Fox')\n"
   ]
  },
  {
   "cell_type": "code",
   "execution_count": 5,
   "metadata": {},
   "outputs": [
    {
     "name": "stdout",
     "output_type": "stream",
     "text": [
      "Unique List: [1, 2, 3, 4, 5]\n"
     ]
    }
   ],
   "source": [
    "# 2. Write a Python function that takes a list and returns a new list with distinct elements from the first list.\n",
    "# Sample List : [1,2,3,3,3,3,4,5]\n",
    "# Unique List : [1, 2, 3, 4, 5]\n",
    "def get_unique_elements(lst):\n",
    "    unique_list = list(set(lst))\n",
    "    return unique_list\n",
    "\n",
    "# Sample usage\n",
    "sample_list = [1, 2, 3, 3, 3, 3, 4, 5]\n",
    "print(\"Unique List:\", get_unique_elements(sample_list))\n"
   ]
  },
  {
   "cell_type": "code",
   "execution_count": 6,
   "metadata": {},
   "outputs": [
    {
     "name": "stdout",
     "output_type": "stream",
     "text": [
      "6 is a Perfect Number\n"
     ]
    }
   ],
   "source": [
    "# 3. Write a Python function to check whether a number is \"Perfect\" or not.\n",
    "# Hint: In number theory, a perfect number is a positive integer that is equal to the sum of its proper positive divisors, that is, the sum of its positive divisors excluding the number itself (also known as its aliquot sum). Equivalently, a perfect number is a number that is half the sum of all of its positive divisors (including itself).\n",
    "# Example : The first perfect number is 6, because 1, 2, and 3 are its proper positive divisors, and 1 + 2 + 3 = 6. Equivalently, the number 6 is equal to half the sum of all its positive divisors: ( 1 + 2 + 3 + 6 ) / 2 = 6. The next perfect number is 28 = 1 + 2 + 4 + 7 + 14. This is followed by the perfect numbers 496 and 8128.\n",
    "def is_perfect_number(n):\n",
    "    if n < 1:\n",
    "        return False\n",
    "    divisors_sum = sum(i for i in range(1, n) if n % i == 0)\n",
    "    return divisors_sum == n\n",
    "\n",
    "# Sample usage\n",
    "number = 6\n",
    "if is_perfect_number(number):\n",
    "    print(f\"{number} is a Perfect Number\")\n",
    "else:\n",
    "    print(f\"{number} is not a Perfect Number\")\n"
   ]
  },
  {
   "cell_type": "code",
   "execution_count": 10,
   "metadata": {},
   "outputs": [
    {
     "name": "stdout",
     "output_type": "stream",
     "text": [
      "Sorted sequence: exam-re\n"
     ]
    }
   ],
   "source": [
    "# 4. Write a Python program that accepts a hyphen-separated sequence of words as input and prints the words in a hyphen-separated sequence after sorting them alphabetically.\n",
    "def sort_hyphenated_sequence(sequence):\n",
    "    words = sequence.split('-')  # Split the sequence into a list of words\n",
    "    words.sort()  # Sort the words alphabetically\n",
    "    sorted_sequence = '-'.join(words)  # Join the sorted words with hyphens\n",
    "    return sorted_sequence\n",
    "\n",
    "# Sample usage\n",
    "input_sequence = input(\"Enter a hyphen-separated sequence of words: \")\n",
    "print(\"Sorted sequence:\", sort_hyphenated_sequence(input_sequence))\n"
   ]
  },
  {
   "cell_type": "code",
   "execution_count": 11,
   "metadata": {},
   "outputs": [
    {
     "name": "stdout",
     "output_type": "stream",
     "text": [
      "Hello, my name is John Doe and I am 30 years old.\n"
     ]
    }
   ],
   "source": [
    "# 5. WAP to demonstrate the functionality of positional argument in functions\n",
    "def introduce(first_name, last_name, age):\n",
    "    print(f\"Hello, my name is {first_name} {last_name} and I am {age} years old.\")\n",
    "\n",
    "# Sample usage with positional arguments\n",
    "introduce(\"John\", \"Doe\", 30)\n"
   ]
  },
  {
   "cell_type": "code",
   "execution_count": 12,
   "metadata": {},
   "outputs": [
    {
     "name": "stdout",
     "output_type": "stream",
     "text": [
      "Hello, my name is John Doe and I am 30 years old.\n",
      "Hello, my name is Jane Smith and I am 25 years old.\n"
     ]
    }
   ],
   "source": [
    "# 6. WAP to demonstrate the functionality of keyword argument in functions\n",
    "def introduce(first_name, last_name, age):\n",
    "    print(f\"Hello, my name is {first_name} {last_name} and I am {age} years old.\")\n",
    "\n",
    "# Sample usage with keyword arguments\n",
    "introduce(first_name=\"John\", last_name=\"Doe\", age=30)\n",
    "\n",
    "# Keyword arguments allow you to change the order\n",
    "introduce(age=25, last_name=\"Smith\", first_name=\"Jane\")\n"
   ]
  },
  {
   "cell_type": "code",
   "execution_count": 14,
   "metadata": {},
   "outputs": [
    {
     "name": "stdout",
     "output_type": "stream",
     "text": [
      "Name: John Doe\n",
      "Age: 30\n",
      "City: Unknown\n",
      "Name: Jane Smith\n",
      "Age: 25\n",
      "City: New York\n",
      "Name: Alice Johnson\n",
      "Age: 40\n",
      "City: San Francisco\n"
     ]
    }
   ],
   "source": [
    "# 7. WAP to demonstrate how positional arguments and keyword arguments can be used in functions.\n",
    "def describe_person(first_name, last_name, age, city=\"Unknown\"):\n",
    "    print(f\"Name: {first_name} {last_name}\")\n",
    "    print(f\"Age: {age}\")\n",
    "    print(f\"City: {city}\")\n",
    "\n",
    "# Using positional arguments for first_name, last_name, and age\n",
    "describe_person(\"John\", \"Doe\", 30)\n",
    "\n",
    "# Using positional arguments and a keyword argument for city\n",
    "describe_person(\"Jane\", \"Smith\", 25, city=\"New York\")\n",
    "\n",
    "# Mixing positional and keyword arguments, changing the order\n",
    "describe_person(\"Alice\", last_name=\"Johnson\", age=40, city=\"San Francisco\")\n"
   ]
  },
  {
   "cell_type": "code",
   "execution_count": 15,
   "metadata": {},
   "outputs": [
    {
     "name": "stdout",
     "output_type": "stream",
     "text": [
      "Hello, Alice!\n",
      "Good morning, Bob!\n"
     ]
    }
   ],
   "source": [
    "# 8. WAP to demonstrate the functionality of default argument in functions.\n",
    "def greet(name, message=\"Hello\"):\n",
    "    print(f\"{message}, {name}!\")\n",
    "\n",
    "# Sample usage\n",
    "greet(\"Alice\")  # Uses the default message \"Hello\"\n",
    "greet(\"Bob\", \"Good morning\")  # Overrides the default message with \"Good morning\"\n"
   ]
  },
  {
   "cell_type": "code",
   "execution_count": 16,
   "metadata": {},
   "outputs": [
    {
     "name": "stdout",
     "output_type": "stream",
     "text": [
      "The sum of numbers is: 6\n",
      "The sum of numbers is: 50\n"
     ]
    }
   ],
   "source": [
    "# 9. WAP to demonstrate how variable length arguments are used in functions.\n",
    "def sum_numbers(*args):\n",
    "    total = sum(args)\n",
    "    print(f\"The sum of numbers is: {total}\")\n",
    "\n",
    "# Sample usage\n",
    "sum_numbers(1, 2, 3)       # Passing multiple arguments\n",
    "sum_numbers(5, 10, 15, 20)  # Passing a different number of arguments\n"
   ]
  },
  {
   "cell_type": "code",
   "execution_count": 17,
   "metadata": {},
   "outputs": [
    {
     "name": "stdout",
     "output_type": "stream",
     "text": [
      "Profile Information:\n",
      "name: Alice\n",
      "age: 30\n",
      "city: New York\n",
      "profession: Engineer\n",
      "Profile Information:\n",
      "name: Bob\n",
      "hobby: Photography\n",
      "country: USA\n",
      "age: 25\n"
     ]
    }
   ],
   "source": [
    "# 10. WAP to demonstrate how variable length keyword arguments are used in functions.\n",
    "def display_profile(**kwargs):\n",
    "    print(\"Profile Information:\")\n",
    "    for key, value in kwargs.items():\n",
    "        print(f\"{key}: {value}\")\n",
    "\n",
    "# Sample usage\n",
    "display_profile(name=\"Alice\", age=30, city=\"New York\", profession=\"Engineer\")\n",
    "display_profile(name=\"Bob\", hobby=\"Photography\", country=\"USA\", age=25)\n"
   ]
  },
  {
   "cell_type": "code",
   "execution_count": 49,
   "metadata": {},
   "outputs": [
    {
     "ename": "ModuleNotFoundError",
     "evalue": "No module named 'main.py'; 'main' is not a package",
     "output_type": "error",
     "traceback": [
      "\u001b[0;31m---------------------------------------------------------------------------\u001b[0m",
      "\u001b[0;31mModuleNotFoundError\u001b[0m                       Traceback (most recent call last)",
      "Cell \u001b[0;32mIn[49], line 2\u001b[0m\n\u001b[1;32m      1\u001b[0m \u001b[38;5;66;03m# 11. WAP to demonstrate how to create your own modules for common mathematical operations and import it and use it.\u001b[39;00m\n\u001b[0;32m----> 2\u001b[0m \u001b[38;5;28;01mimport\u001b[39;00m \u001b[38;5;21;01mmain\u001b[39;00m\u001b[38;5;21;01m.\u001b[39;00m\u001b[38;5;21;01mpy\u001b[39;00m\n\u001b[1;32m      4\u001b[0m \u001b[38;5;66;03m# Using the functions from the module\u001b[39;00m\n\u001b[1;32m      5\u001b[0m num1 \u001b[38;5;241m=\u001b[39m \u001b[38;5;28mfloat\u001b[39m(\u001b[38;5;28minput\u001b[39m(\u001b[38;5;124m\"\u001b[39m\u001b[38;5;124menter the first number: \u001b[39m\u001b[38;5;124m\"\u001b[39m))\n",
      "\u001b[0;31mModuleNotFoundError\u001b[0m: No module named 'main.py'; 'main' is not a package"
     ]
    }
   ],
   "source": [
    "# 11. WAP to demonstrate how to create your own modules for common mathematical operations and import it and use it.\n",
    "import main.py\n",
    "\n",
    "# Using the functions from the module\n",
    "num1 = float(input(\"enter the first number: \"))\n",
    "num2 = float(input(\"enter the second number: \"))\n",
    "\n",
    "print(f\"{num1} + {num2} = {main.add(num1,num2)}\")\n",
    "print(f\"{num1} - {num2} = {main.substract(num1,num2)}\")\n",
    "print(f\"{num1} * {num2} = {main.multiply(num1,num2)}\")\n",
    "print(f\"{num1} / {num2} = {main.divide(num1,num2)}\")\n",
    "\n",
    "\n"
   ]
  },
  {
   "cell_type": "code",
   "execution_count": 27,
   "metadata": {},
   "outputs": [
    {
     "name": "stdout",
     "output_type": "stream",
     "text": [
      "Ceil of 4.3: 5\n",
      "Trunc of 4.7: 4\n",
      "Floor of 4.7: 4\n",
      "Factorial of 5: 120\n",
      "Fabs of -5.3: 5.3\n",
      "Pow of 2 raised to 3: 8.0\n",
      "Fmod of 17 and 5: 2.0\n",
      "Fsum of [0.1, 0.2, 0.3]: 0.6\n",
      "Prod of [1, 2, 3, 4]: 24\n",
      "Square root of 16: 4.0\n"
     ]
    }
   ],
   "source": [
    "# 12. WAP to demonstrate following functions in math module:\n",
    "#a. Ceil\n",
    "#b. Trunc\n",
    "#c. Floor\n",
    "#d. Factorial\n",
    "#e. Fabs\n",
    "#f. Pow\n",
    "#g. Fmod\n",
    "#h. Fsum\n",
    "#i. Prod\n",
    "#j. sqrt\n",
    "# Importing the math module\n",
    "import math\n",
    "\n",
    "# a. Ceil - returns the smallest integer greater than or equal to a number\n",
    "print(\"Ceil of 4.3:\", math.ceil(4.3))\n",
    "\n",
    "# b. Trunc - returns the integer part of a number, removing any decimal\n",
    "print(\"Trunc of 4.7:\", math.trunc(4.7))\n",
    "\n",
    "# c. Floor - returns the largest integer less than or equal to a number\n",
    "print(\"Floor of 4.7:\", math.floor(4.7))\n",
    "\n",
    "# d. Factorial - returns the factorial of an integer\n",
    "print(\"Factorial of 5:\", math.factorial(5))\n",
    "\n",
    "# e. Fabs - returns the absolute value of a float\n",
    "print(\"Fabs of -5.3:\", math.fabs(-5.3))\n",
    "\n",
    "# f. Pow - returns the value of x raised to the power y (x^y)\n",
    "print(\"Pow of 2 raised to 3:\", math.pow(2, 3))\n",
    "\n",
    "# g. Fmod - returns the remainder when x is divided by y\n",
    "print(\"Fmod of 17 and 5:\", math.fmod(17, 5))\n",
    "\n",
    "# h. Fsum - returns the sum of all elements in an iterable, more precise than sum()\n",
    "print(\"Fsum of [0.1, 0.2, 0.3]:\", math.fsum([0.1, 0.2, 0.3]))\n",
    "\n",
    "# i. Prod - returns the product of all elements in an iterable\n",
    "print(\"Prod of [1, 2, 3, 4]:\", math.prod([1, 2, 3, 4]))\n",
    "\n",
    "# j. Sqrt - returns the square root of a number\n",
    "print(\"Square root of 16:\", math.sqrt(16))\n"
   ]
  },
  {
   "cell_type": "code",
   "execution_count": 28,
   "metadata": {},
   "outputs": [
    {
     "name": "stdout",
     "output_type": "stream",
     "text": [
      "Random float between 0 and 1: 0.01878444787887701\n",
      "Random integer between 1 and 10: 10\n",
      "Random float between 5.5 and 10.5: 8.212802611926643\n",
      "Random choice from list: 1\n",
      "List before shuffle: [1, 2, 3, 4, 5]\n",
      "List after shuffle: [5, 3, 2, 1, 4]\n",
      "Random integer from range 0 to 9: 5\n",
      "Random integer from range 5 to 15 with step 2: 13\n"
     ]
    }
   ],
   "source": [
    "# 13. WAP to demonstrate following functions in random module:\n",
    "#a. random()\n",
    "#b. randint()\n",
    "#c. uniform()\n",
    "#d. choice()\n",
    "#e. shuffle()\n",
    "#f. randrange()\n",
    "# Importing the random module\n",
    "import random\n",
    "\n",
    "# a. random() - returns a random float between 0.0 and 1.0\n",
    "print(\"Random float between 0 and 1:\", random.random())\n",
    "\n",
    "# b. randint() - returns a random integer between two specified integers (inclusive)\n",
    "print(\"Random integer between 1 and 10:\", random.randint(1, 10))\n",
    "\n",
    "# c. uniform() - returns a random float between two specified values\n",
    "print(\"Random float between 5.5 and 10.5:\", random.uniform(5.5, 10.5))\n",
    "\n",
    "# d. choice() - returns a random element from a non-empty sequence\n",
    "my_list = [1, 2, 3, 4, 5]\n",
    "print(\"Random choice from list:\", random.choice(my_list))\n",
    "\n",
    "# e. shuffle() - shuffles a sequence in place\n",
    "print(\"List before shuffle:\", my_list)\n",
    "random.shuffle(my_list)\n",
    "print(\"List after shuffle:\", my_list)\n",
    "\n",
    "# f. randrange() - returns a randomly selected element from the specified range\n",
    "print(\"Random integer from range 0 to 9:\", random.randrange(10))\n",
    "print(\"Random integer from range 5 to 15 with step 2:\", random.randrange(5, 16, 2))\n"
   ]
  }
 ],
 "metadata": {
  "kernelspec": {
   "display_name": "Python 3",
   "language": "python",
   "name": "python3"
  },
  "language_info": {
   "codemirror_mode": {
    "name": "ipython",
    "version": 3
   },
   "file_extension": ".py",
   "mimetype": "text/x-python",
   "name": "python",
   "nbconvert_exporter": "python",
   "pygments_lexer": "ipython3",
   "version": "3.12.6"
  }
 },
 "nbformat": 4,
 "nbformat_minor": 2
}
